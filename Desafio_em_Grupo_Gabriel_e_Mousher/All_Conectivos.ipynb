{
 "cells": [
  {
   "cell_type": "code",
   "execution_count": 5,
   "id": "3fe0e771-c97e-4453-acd6-e100ac7cb0ad",
   "metadata": {},
   "outputs": [
    {
     "name": "stdout",
     "output_type": "stream",
     "text": [
      "p: False | q: False | ¬p: True | ¬q: True | p^q: False | pVq: False | p->q: True | p<->q: True\n"
     ]
    }
   ],
   "source": [
    "dia = \"segunda\"\n",
    "materia = \"Logica\"\n",
    "\n",
    "p = (dia == \"terça\")\n",
    "q = (materia == \"Quimica\")\n",
    "not_p = not p\n",
    "not_q = not q\n",
    "\n",
    "print(\"p:\", p, \"| q:\", q, \"| ¬p:\", not_p, \"| ¬q:\", not_q, \"| p^q:\", p and q, \"| pVq:\", p or q,\n",
    "      \"| p->q:\", (not p) or q, \"| p<->q:\", p==q)"
   ]
  },
  {
   "cell_type": "code",
   "execution_count": 6,
   "id": "5d7d7a76-32c7-47e3-92a2-397b4e370208",
   "metadata": {},
   "outputs": [
    {
     "name": "stdout",
     "output_type": "stream",
     "text": [
      "p: False | q: True | ¬p: True | ¬q: False | p^q: False | pVq: True | p->q: True | p<->q: False\n"
     ]
    }
   ],
   "source": [
    "dia = \"segunda\"\n",
    "materia = \"Logica\"\n",
    "\n",
    "p = (dia == \"quarta\")\n",
    "q = (materia == \"Logica\")\n",
    "not_p = not p\n",
    "not_q = not q\n",
    "\n",
    "print(\"p:\", p, \"| q:\", q, \"| ¬p:\", not_p, \"| ¬q:\", not_q, \"| p^q:\", p and q, \"| pVq:\", p or q,\n",
    "      \"| p->q:\", (not p) or q, \"| p<->q:\", p==q)"
   ]
  },
  {
   "cell_type": "code",
   "execution_count": 7,
   "id": "dfec6aeb-cf63-4dfa-9873-bb3453cdc599",
   "metadata": {},
   "outputs": [
    {
     "name": "stdout",
     "output_type": "stream",
     "text": [
      "p: True | q: False | ¬p: False | ¬q: True | p^q: False | pVq: True | p->q: False | p<->q: False\n"
     ]
    }
   ],
   "source": [
    "dia = \"segunda\"\n",
    "materia = \"Logica\"\n",
    "\n",
    "p = (dia == \"segunda\")\n",
    "q = (materia == \"Português\")\n",
    "not_p = not p\n",
    "not_q = not q\n",
    "\n",
    "print(\"p:\", p, \"| q:\", q, \"| ¬p:\", not_p, \"| ¬q:\", not_q, \"| p^q:\", p and q, \"| pVq:\", p or q,\n",
    "      \"| p->q:\", (not p) or q, \"| p<->q:\", p==q)"
   ]
  },
  {
   "cell_type": "code",
   "execution_count": 8,
   "id": "2732c0ab-ade5-44d9-a014-c0190848a70f",
   "metadata": {},
   "outputs": [
    {
     "name": "stdout",
     "output_type": "stream",
     "text": [
      "p: True | q: True | ¬p: False | ¬q: False | p^q: True | pVq: True | p->q: True | p<->q: True\n"
     ]
    }
   ],
   "source": [
    "dia = \"segunda\"\n",
    "materia = \"Logica\"\n",
    "\n",
    "p = (dia == \"segunda\")\n",
    "q = (materia == \"Logica\")\n",
    "not_p = not p\n",
    "not_q = not q\n",
    "\n",
    "print(\"p:\", p, \"| q:\", q, \"| ¬p:\", not_p, \"| ¬q:\", not_q, \"| p^q:\", p and q, \"| pVq:\", p or q,\n",
    "      \"| p->q:\", (not p) or q, \"| p<->q:\", p==q)"
   ]
  }
 ],
 "metadata": {
  "kernelspec": {
   "display_name": "Python 3 (ipykernel)",
   "language": "python",
   "name": "python3"
  },
  "language_info": {
   "codemirror_mode": {
    "name": "ipython",
    "version": 3
   },
   "file_extension": ".py",
   "mimetype": "text/x-python",
   "name": "python",
   "nbconvert_exporter": "python",
   "pygments_lexer": "ipython3",
   "version": "3.13.5"
  }
 },
 "nbformat": 4,
 "nbformat_minor": 5
}
