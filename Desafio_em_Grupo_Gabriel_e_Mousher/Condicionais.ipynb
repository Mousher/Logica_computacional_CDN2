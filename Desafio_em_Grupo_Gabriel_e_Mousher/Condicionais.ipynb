{
 "cells": [
  {
   "cell_type": "code",
   "execution_count": 41,
   "id": "18957f9f-8e00-4388-abd4-3e0e921a47e4",
   "metadata": {},
   "outputs": [
    {
     "name": "stdout",
     "output_type": "stream",
     "text": [
      "p: True | q: True | p -> q: True | r: True |(p -> q) -> r True\n"
     ]
    }
   ],
   "source": [
    "dia = \"segunda\"\n",
    "materia = \"Logica\"\n",
    "professor = \"Odirlei\"\n",
    "\n",
    "p = (dia == \"segunda\")\n",
    "q = (materia == \"Logica\")\n",
    "r = (professor == \"Odirlei\")\n",
    "s = (not p) or q\n",
    "\n",
    "print(\"p:\", p, \"| q:\", q, \"| p -> q:\", (not p) or q, \"| r:\",  r,  \"|(p -> q) -> r\", (not s) or r)"
   ]
  },
  {
   "cell_type": "code",
   "execution_count": 42,
   "id": "ba2c2b04-8a1a-4832-afe3-ceaf41d1d102",
   "metadata": {},
   "outputs": [
    {
     "name": "stdout",
     "output_type": "stream",
     "text": [
      "p: True | q: True | p -> q: True | r: False |(p -> q) -> r False\n"
     ]
    }
   ],
   "source": [
    "dia = \"segunda\"\n",
    "materia = \"Logica\"\n",
    "professor = \"Odirlei\"\n",
    "\n",
    "p = (dia == \"segunda\")\n",
    "q = (materia == \"Logica\")\n",
    "r = (professor == \"Zago\")\n",
    "s = (not p) or q\n",
    "\n",
    "print(\"p:\", p, \"| q:\", q, \"| p -> q:\", (not p) or q, \"| r:\",  r,  \"|(p -> q) -> r\", (not s) or r)"
   ]
  },
  {
   "cell_type": "code",
   "execution_count": 43,
   "id": "1792be84-92e8-4bda-b0ec-1e0b56d92033",
   "metadata": {},
   "outputs": [
    {
     "name": "stdout",
     "output_type": "stream",
     "text": [
      "p: True | q: False | p -> q: False | r: False |(p -> q) -> r True\n"
     ]
    }
   ],
   "source": [
    "dia = \"segunda\"\n",
    "materia = \"Logica\"\n",
    "professor = \"Odirlei\"\n",
    "\n",
    "p = (dia == \"segunda\")\n",
    "q = (materia == \"Estatistica\")\n",
    "r = (professor == \"Zago\")\n",
    "s = (not p) or q\n",
    "\n",
    "print(\"p:\", p, \"| q:\", q, \"| p -> q:\", (not p) or q, \"| r:\",  r,  \"|(p -> q) -> r\", (not s) or r)"
   ]
  },
  {
   "cell_type": "code",
   "execution_count": 44,
   "id": "2d6d2e08-15a9-4192-be04-7069eb0136bc",
   "metadata": {},
   "outputs": [
    {
     "name": "stdout",
     "output_type": "stream",
     "text": [
      "p: False | q: False | p -> q: True | r: False |(p -> q) -> r False\n"
     ]
    }
   ],
   "source": [
    "dia = \"segunda\"\n",
    "materia = \"Logica\"\n",
    "professor = \"Odirlei\"\n",
    "\n",
    "p = (dia == \"terça\")\n",
    "q = (materia == \"Estatistica\")\n",
    "r = (professor == \"Zago\")\n",
    "s = (not p) or q\n",
    "\n",
    "print(\"p:\", p, \"| q:\", q, \"| p -> q:\", (not p) or q, \"| r:\",  r,  \"|(p -> q) -> r\", (not s) or r)"
   ]
  },
  {
   "cell_type": "code",
   "execution_count": 45,
   "id": "a02c315a-1268-4f95-9b23-c6b155ba2c39",
   "metadata": {},
   "outputs": [
    {
     "name": "stdout",
     "output_type": "stream",
     "text": [
      "p: False | q: False | p -> q: True | r: True |(p -> q) -> r True\n"
     ]
    }
   ],
   "source": [
    "dia = \"segunda\"\n",
    "materia = \"Logica\"\n",
    "professor = \"Odirlei\"\n",
    "\n",
    "p = (dia == \"quarta\")\n",
    "q = (materia == \"Inovação\")\n",
    "r = (professor == \"Odirlei\")\n",
    "s = (not p) or q\n",
    "\n",
    "print(\"p:\", p, \"| q:\", q, \"| p -> q:\", (not p) or q, \"| r:\",  r,  \"|(p -> q) -> r\", (not s) or r)"
   ]
  },
  {
   "cell_type": "code",
   "execution_count": 46,
   "id": "894465cc-76e3-4595-81a5-2fcf0edac5ad",
   "metadata": {},
   "outputs": [
    {
     "name": "stdout",
     "output_type": "stream",
     "text": [
      "p: False | q: True | p -> q: True | r: True |(p -> q) -> r True\n"
     ]
    }
   ],
   "source": [
    "dia = \"segunda\"\n",
    "materia = \"Logica\"\n",
    "professor = \"Odirlei\"\n",
    "\n",
    "p = (dia == \"quarta\")\n",
    "q = (materia == \"Logica\")\n",
    "r = (professor == \"Odirlei\")\n",
    "s = (not p) or q\n",
    "\n",
    "print(\"p:\", p, \"| q:\", q, \"| p -> q:\", (not p) or q, \"| r:\",  r,  \"|(p -> q) -> r\", (not s) or r)"
   ]
  },
  {
   "cell_type": "code",
   "execution_count": 47,
   "id": "236069fe-05dc-4967-8c9d-5575ec8fc414",
   "metadata": {},
   "outputs": [
    {
     "name": "stdout",
     "output_type": "stream",
     "text": [
      "p: True | q: False | p -> q: False | r: True |(p -> q) -> r True\n"
     ]
    }
   ],
   "source": [
    "dia = \"segunda\"\n",
    "materia = \"Logica\"\n",
    "professor = \"Odirlei\"\n",
    "\n",
    "p = (dia == \"segunda\")\n",
    "q = (materia == \"Inovação\")\n",
    "r = (professor == \"Odirlei\")\n",
    "s = (not p) or q\n",
    "\n",
    "print(\"p:\", p, \"| q:\", q, \"| p -> q:\", (not p) or q, \"| r:\",  r,  \"|(p -> q) -> r\", (not s) or r)"
   ]
  },
  {
   "cell_type": "code",
   "execution_count": 48,
   "id": "e5302066-a093-49d4-8c1d-80437d2b9f79",
   "metadata": {},
   "outputs": [
    {
     "name": "stdout",
     "output_type": "stream",
     "text": [
      "p: False | q: True | p -> q: True | r: False |(p -> q) -> r False\n"
     ]
    }
   ],
   "source": [
    "dia = \"segunda\"\n",
    "materia = \"Logica\"\n",
    "professor = \"Odirlei\"\n",
    "\n",
    "p = (dia == \"quinta\")\n",
    "q = (materia == \"Logica\")\n",
    "r = (professor == \"Piva\")\n",
    "s = (not p) or q\n",
    "\n",
    "print(\"p:\", p, \"| q:\", q, \"| p -> q:\", (not p) or q, \"| r:\",  r,  \"|(p -> q) -> r\", (not s) or r)"
   ]
  }
 ],
 "metadata": {
  "kernelspec": {
   "display_name": "Python 3 (ipykernel)",
   "language": "python",
   "name": "python3"
  },
  "language_info": {
   "codemirror_mode": {
    "name": "ipython",
    "version": 3
   },
   "file_extension": ".py",
   "mimetype": "text/x-python",
   "name": "python",
   "nbconvert_exporter": "python",
   "pygments_lexer": "ipython3",
   "version": "3.13.5"
  }
 },
 "nbformat": 4,
 "nbformat_minor": 5
}
