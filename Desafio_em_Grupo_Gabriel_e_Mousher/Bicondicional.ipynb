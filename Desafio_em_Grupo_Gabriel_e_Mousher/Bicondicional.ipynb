{
 "cells": [
  {
   "cell_type": "code",
   "execution_count": 1,
   "id": "e5175320-13a2-4823-8ae0-4930f8808724",
   "metadata": {},
   "outputs": [
    {
     "name": "stdout",
     "output_type": "stream",
     "text": [
      "p: True |q: True |r: True |p <-> q <-> r: True\n"
     ]
    }
   ],
   "source": [
    "\n",
    "# bicondicional/ equivalencia(<->): a lógica só é true quando p,q e forem true ou p,q e r forem false\n",
    "\n",
    "dia = \"segunda\"\n",
    "materia = \"lógica\" \n",
    "professor = \"Odirlei\"\n",
    "\n",
    "# \"=\" atribui ; \"==\" compara (gera true/false)\n",
    "\n",
    "#true - true - true / 111\n",
    "\n",
    "p = (dia == \"segunda\")\n",
    "q = (materia == \"lógica\")\n",
    "r = (professor == \"Odirlei\")\n",
    "     \n",
    "\n",
    "# bicondicional: p <-> qé true quando p e q forem iguais\n",
    "print(\"p:\", p, \"|q:\", q, \"|r:\", r, \"|p <-> q <-> r:\",((p==q)==r))\n",
    "\n",
    "\n"
   ]
  },
  {
   "cell_type": "code",
   "execution_count": 2,
   "id": "165ebfca-5f6b-43d3-ace8-375ac0963e6b",
   "metadata": {},
   "outputs": [
    {
     "name": "stdout",
     "output_type": "stream",
     "text": [
      "p: True |q: True |r: False |p <-> q <-> r: False\n"
     ]
    }
   ],
   "source": [
    "\n",
    "# bicondicional/ equivalencia(<->): a lógica só é true quando p,q e forem true ou p,q e r forem false\n",
    "\n",
    "dia = \"segunda\"\n",
    "materia = \"lógica\" \n",
    "professor = \"Odirlei\"\n",
    "\n",
    "# \"=\" atribui ; \"==\" compara (gera true/false)\n",
    "\n",
    "# true - true - false / 110\n",
    "\n",
    "p = (dia == \"segunda\")\n",
    "q = (materia == \"lógica\")\n",
    "r = (professor == \"Marcos\")\n",
    "     \n",
    "\n",
    "# bicondicional: p <-> qé true quando p e q forem iguais\n",
    "print(\"p:\", p, \"|q:\", q, \"|r:\", r, \"|p <-> q <-> r:\", ((p==q)==r))\n",
    "\n",
    "\n",
    "\n"
   ]
  },
  {
   "cell_type": "code",
   "execution_count": 3,
   "id": "e22ad41f-4804-46cd-9c6e-4258d31a480e",
   "metadata": {},
   "outputs": [
    {
     "name": "stdout",
     "output_type": "stream",
     "text": [
      "p: True |q: False |r: False |p <-> q <-> r: True\n"
     ]
    }
   ],
   "source": [
    "# bicondicional/ equivalencia(<->): a lógica só é true quando p,q e forem true ou p,q e r forem false\n",
    "\n",
    "dia = \"segunda\"\n",
    "materia = \"lógica\" \n",
    "professor = \"Odirlei\"\n",
    "\n",
    "# \"=\" atribui ; \"==\" compara (gera true/false)\n",
    "\n",
    "# true - false - false / 101\n",
    "\n",
    "p = (dia == \"segunda\")\n",
    "q = (materia == \"Algebra\")\n",
    "r = (professor == \"Marcos\")\n",
    "     \n",
    "\n",
    "# bicondicional: p <-> qé true quando p e q forem iguais\n",
    "print(\"p:\", p, \"|q:\", q, \"|r:\", r, \"|p <-> q <-> r:\", ((p==q)==r))\n",
    "\n"
   ]
  },
  {
   "cell_type": "code",
   "execution_count": 4,
   "id": "7a5c4895-c443-41fa-a4ae-1d4da5683437",
   "metadata": {},
   "outputs": [
    {
     "name": "stdout",
     "output_type": "stream",
     "text": [
      "p: True |q: False |r: False |p <-> q <-> r: True\n"
     ]
    }
   ],
   "source": [
    "\n",
    "# bicondicional/ equivalencia(<->): a lógica só é true quando p,q e forem true ou p,q e r forem false\n",
    "\n",
    "dia = \"segunda\"\n",
    "materia = \"lógica\" \n",
    "professor = \"Odirlei\"\n",
    "\n",
    "# \"=\" atribui ; \"==\" compara (gera true/false)\n",
    "\n",
    "# true - false - false / 100\n",
    "\n",
    "p = (dia == \"segunda\")\n",
    "q = (materia == \"Algebra\")\n",
    "r = (professor == \"Marcos\")\n",
    "     \n",
    "\n",
    "# bicondicional: p <-> qé true quando p e q forem iguais\n",
    "print(\"p:\", p, \"|q:\", q, \"|r:\", r, \"|p <-> q <-> r:\", ((p==q)==r))\n"
   ]
  },
  {
   "cell_type": "code",
   "execution_count": 5,
   "id": "9550ba2e-96b6-412b-a46d-91193c53aee2",
   "metadata": {},
   "outputs": [
    {
     "name": "stdout",
     "output_type": "stream",
     "text": [
      "p: False |q: True |r: True |p <-> q <-> r: False\n"
     ]
    }
   ],
   "source": [
    "\n",
    "# bicondicional/ equivalencia(<->): a lógica só é true quando p,q e forem true ou p,q e r forem false\n",
    "\n",
    "dia = \"segunda\"\n",
    "materia = \"lógica\" \n",
    "professor = \"Odirlei\"\n",
    "\n",
    "# \"=\" atribui ; \"==\" compara (gera true/false)\n",
    "\n",
    "# false - true - true / 011\n",
    "\n",
    "p = (dia == \"Quarta\")\n",
    "q = (materia == \"lógica\")\n",
    "r = (professor == \"Odirlei\")\n",
    "     \n",
    "\n",
    "# bicondicional: p <-> qé true quando p e q forem iguais\n",
    "print(\"p:\", p, \"|q:\", q, \"|r:\", r, \"|p <-> q <-> r:\", ((p==q)==r))\n"
   ]
  },
  {
   "cell_type": "code",
   "execution_count": 6,
   "id": "d91ea45e-fa10-43ce-821d-9585374466c6",
   "metadata": {},
   "outputs": [
    {
     "name": "stdout",
     "output_type": "stream",
     "text": [
      "p: False |q: True |r: False |p <-> q <-> r: True\n"
     ]
    }
   ],
   "source": [
    "\n",
    "# bicondicional/ equivalencia(<->): a lógica só é true quando p,q e forem true ou p,q e r forem false\n",
    "\n",
    "dia = \"segunda\"\n",
    "materia = \"lógica\" \n",
    "professor = \"Odirlei\"\n",
    "\n",
    "# \"=\" atribui ; \"==\" compara (gera true/false)\n",
    "\n",
    "# false - true - false / 010\n",
    "\n",
    "p = (dia == \"terça\")\n",
    "q = (materia == \"lógica\")\n",
    "r = (professor == \"Marcos\")\n",
    "     \n",
    "\n",
    "# bicondicional: p <-> qé true quando p e q forem iguais\n",
    "print(\"p:\", p, \"|q:\", q, \"|r:\", r, \"|p <-> q <-> r:\", ((p==q)==r))\n"
   ]
  },
  {
   "cell_type": "code",
   "execution_count": 7,
   "id": "23c51cad-a00f-477c-8702-3abd71be9dfb",
   "metadata": {},
   "outputs": [
    {
     "name": "stdout",
     "output_type": "stream",
     "text": [
      "p: False |q: False |r: True |p <-> q <-> r: True\n"
     ]
    }
   ],
   "source": [
    "\n",
    "# bicondicional/ equivalencia(<->): a lógica só é true quando p,q e forem true ou p,q e r forem false\n",
    "\n",
    "dia = \"segunda\"\n",
    "materia = \"lógica\" \n",
    "professor = \"Odirlei\"\n",
    "\n",
    "# \"=\" atribui ; \"==\" compara (gera true/false)\n",
    "\n",
    "# false - false - true / 001\n",
    "\n",
    "p = (dia == \"quarta\")\n",
    "q = (materia == \"Algebra\")\n",
    "r = (professor == \"Odirlei\")\n",
    "     \n",
    "\n",
    "# bicondicional: p <-> qé true quando p e q forem iguais\n",
    "print(\"p:\", p, \"|q:\", q, \"|r:\", r, \"|p <-> q <-> r:\", ((p==q)==r))\n"
   ]
  },
  {
   "cell_type": "code",
   "execution_count": 8,
   "id": "4641e242-7480-4c5a-a006-c928d69bc8aa",
   "metadata": {},
   "outputs": [
    {
     "name": "stdout",
     "output_type": "stream",
     "text": [
      "p: False |q: False |r: False |p <-> q <-> r: False\n"
     ]
    }
   ],
   "source": [
    "\n",
    "# bicondicional/ equivalencia(<->): a lógica só é true quando p,q e forem true ou p,q e r forem false\n",
    "\n",
    "dia = \"segunda\"\n",
    "materia = \"lógica\" \n",
    "professor = \"Odirlei\"\n",
    "\n",
    "# \"=\" atribui ; \"==\" compara (gera true/false)\n",
    "\n",
    "# false - false - false / ooo\n",
    "\n",
    "p = (dia == \"terça\")\n",
    "q = (materia == \"algebra\")\n",
    "r = (professor == \"Marcos\")\n",
    "     \n",
    "\n",
    "# bicondicional: p <-> qé true quando p e q forem iguais\n",
    "print(\"p:\", p, \"|q:\", q, \"|r:\", r, \"|p <-> q <-> r:\", ((p==q)==r))\n"
   ]
  }
 ],
 "metadata": {
  "kernelspec": {
   "display_name": "Python 3 (ipykernel)",
   "language": "python",
   "name": "python3"
  },
  "language_info": {
   "codemirror_mode": {
    "name": "ipython",
    "version": 3
   },
   "file_extension": ".py",
   "mimetype": "text/x-python",
   "name": "python",
   "nbconvert_exporter": "python",
   "pygments_lexer": "ipython3",
   "version": "3.13.5"
  }
 },
 "nbformat": 4,
 "nbformat_minor": 5
}
