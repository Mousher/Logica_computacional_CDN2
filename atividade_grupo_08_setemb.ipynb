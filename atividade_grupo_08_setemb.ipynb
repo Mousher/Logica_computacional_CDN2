{
 "cells": [
  {
   "cell_type": "code",
   "execution_count": 22,
   "id": "5161d0b8-1748-4d01-a6c3-64a138ee0cbc",
   "metadata": {},
   "outputs": [
    {
     "name": "stdout",
     "output_type": "stream",
     "text": [
      "Negação -  p: True q: True | ¬p False |¬q: False\n",
      "Conjunção -  p: True | q: True p∧q: True\n",
      "Disjunção -  p: True | q: True | pvq: True\n",
      "Condicional -  p: True |q:  True |p -> q: True\n",
      "Bicondicional -  p: True |q: True |p <-> q True\n"
     ]
    }
   ],
   "source": [
    "# Atividade em grupo Gabriel Castilho - Mousher\n",
    "\n",
    "dia = \"segunda\"\n",
    "materia = \"lógica\" \n",
    "\n",
    "# \"=\" atribui ; \"==\" compara (gera true/false)\n",
    "\n",
    "#true - true \n",
    "\n",
    "p = (dia == \"segunda\")\n",
    "q = (materia == \"lógica\")\n",
    "\n",
    "# Negação\n",
    "\n",
    "print(\"Negação - \",\"p:\", p, \"q:\", q,\"| ¬p\",(not p),\"|¬q:\",(not q))\n",
    "\n",
    "# Conjução (AND = ∧): só é True quando p e q são True\n",
    "\n",
    "print(\"Conjunção - \",\"p:\", p, \"| q:\", q, \"p∧q:\", p and q)\n",
    "\n",
    "# Disjunção (or = v): só é False quando p ou q são False\n",
    "\n",
    "print(\"Disjunção - \",\"p:\", p, \"| q:\", q, \"| pvq:\", p or q)\n",
    "\n",
    "# condicional (p -> q) é FALSA só quando p = true e q = false\n",
    "\n",
    "print(\"Condicional - \", \"p:\", p, \"|q: \", q, \"|p -> q:\", (not p) or q)\n",
    "\n",
    "# bicondicional: (p <-> q)é true quando p e q forem iguais\n",
    "print(\"Bicondicional - \", \"p:\", p, \"|q:\", q, \"|p <-> q\",(p==q))\n",
    "\n",
    "\n"
   ]
  },
  {
   "cell_type": "code",
   "execution_count": 23,
   "id": "1521d291-ecd6-4fed-ae82-16a715353b82",
   "metadata": {},
   "outputs": [
    {
     "name": "stdout",
     "output_type": "stream",
     "text": [
      "Negação -  p: True q: False | ¬p False |¬q: True\n",
      "Conjunção -  p: True | q: False p∧q: False\n",
      "Disjunção -  p: True | q: False | pvq: True\n",
      "Condicional -  p: True |q:  False |p -> q: False\n",
      "Bicondicional -  p: True |q: False |p <-> q False\n"
     ]
    }
   ],
   "source": [
    "# Atividade em grupo Gabriel Castilho - Mousher\n",
    "\n",
    "dia = \"segunda\"\n",
    "materia = \"lógica\" \n",
    "\n",
    "# \"=\" atribui ; \"==\" compara (gera true/false)\n",
    "\n",
    "# true - false\n",
    "\n",
    "p = (dia == \"segunda\")\n",
    "q = (materia == \"Marcos\")\n",
    "\n",
    "# Negação\n",
    "\n",
    "print(\"Negação - \",\"p:\", p, \"q:\", q,\"| ¬p\",(not p),\"|¬q:\",(not q))\n",
    "\n",
    "# Conjução (AND = ∧): só é True quando p e q são True\n",
    "\n",
    "print(\"Conjunção - \",\"p:\", p, \"| q:\", q, \"p∧q:\", p and q)\n",
    "\n",
    "# Disjunção (or = v): só é False quando p ou q são False\n",
    "\n",
    "print(\"Disjunção - \",\"p:\", p, \"| q:\", q, \"| pvq:\", p or q)\n",
    "\n",
    "# condicional (p -> q): é FALSA só quando p = true e q = false\n",
    "\n",
    "print(\"Condicional - \", \"p:\", p, \"|q: \", q, \"|p -> q:\", (not p) or q)\n",
    "\n",
    "# bicondicional: (p <-> q): é true quando p e q forem iguais\n",
    "print(\"Bicondicional - \", \"p:\", p, \"|q:\", q, \"|p <-> q\",(p==q))\n",
    "\n"
   ]
  },
  {
   "cell_type": "code",
   "execution_count": 24,
   "id": "f559c4df-8120-4f3a-996e-f0f33a6e058d",
   "metadata": {},
   "outputs": [
    {
     "name": "stdout",
     "output_type": "stream",
     "text": [
      "Negação -  p: False q: True | ¬p True |¬q: False\n",
      "Conjunção -  p: False | q: True p∧q: False\n",
      "Disjunção -  p: False | q: True | pvq: True\n",
      "Condicional -  p: False |q:  True |p -> q: True\n",
      "Bicondicional -  p: False |q: True |p <-> q False\n"
     ]
    }
   ],
   "source": [
    "# Atividade em grupo Gabriel Castilho - Mousher\n",
    "\n",
    "dia = \"segunda\"\n",
    "materia = \"lógica\" \n",
    "\n",
    "# \"=\" atribui ; \"==\" compara (gera true/false)\n",
    "\n",
    "# false - true \n",
    "\n",
    "p = (dia == \"terça\")\n",
    "q = (materia == \"lógica\")\n",
    "\n",
    "# Negação\n",
    "\n",
    "print(\"Negação - \",\"p:\", p, \"q:\", q,\"| ¬p\",(not p),\"|¬q:\",(not q))\n",
    "\n",
    "# Conjução (AND = ∧): só é True quando p e q são True\n",
    "\n",
    "print(\"Conjunção - \",\"p:\", p, \"| q:\", q, \"p∧q:\", p and q)\n",
    "\n",
    "# Disjunção (or = v): só é False quando p e q são False\n",
    "\n",
    "print(\"Disjunção - \",\"p:\", p, \"| q:\", q, \"| pvq:\", p or q)\n",
    "\n",
    "# condicional (p -> q): é FALSA só quando p = true e q = false\n",
    "\n",
    "print(\"Condicional - \", \"p:\", p, \"|q: \", q, \"|p -> q:\", (not p) or q)\n",
    "\n",
    "# bicondicional: (p <-> q): é true quando p e q forem iguais\n",
    "print(\"Bicondicional - \", \"p:\", p, \"|q:\", q, \"|p <-> q\",(p==q))\n",
    "\n"
   ]
  },
  {
   "cell_type": "code",
   "execution_count": 26,
   "id": "7f3ff9f8-f51c-409a-89a6-ce0fd5ded1fa",
   "metadata": {},
   "outputs": [
    {
     "name": "stdout",
     "output_type": "stream",
     "text": [
      "Negação -  p: False q: False | ¬p True |¬q: True\n",
      "Conjunção -  p: False | q: False p∧q: False\n",
      "Disjunção -  p: False | q: False | pvq: False\n",
      "Condicional -  p: False |q:  False |p -> q: True\n",
      "Bicondicional -  p: False |q: False |p <-> q True\n"
     ]
    }
   ],
   "source": [
    "# Atividade em grupo Gabriel Castilho - Mousher\n",
    "\n",
    "dia = \"segunda\"\n",
    "materia = \"lógica\" \n",
    "\n",
    "# \"=\" atribui ; \"==\" compara (gera true/false)\n",
    "\n",
    "# false - false\n",
    "\n",
    "p = (dia == \"terça\")\n",
    "q = (materia == \"algebra\")\n",
    "\n",
    "# Negação\n",
    "\n",
    "print(\"Negação - \",\"p:\", p, \"q:\", q,\"| ¬p\",(not p),\"|¬q:\",(not q))\n",
    "\n",
    "# Conjução (AND = ∧): só é True quando p e q são True\n",
    "\n",
    "print(\"Conjunção - \",\"p:\", p, \"| q:\", q, \"p∧q:\", p and q)\n",
    "\n",
    "# Disjunção (or = v): só é False quando p ou q são False\n",
    "\n",
    "print(\"Disjunção - \",\"p:\", p, \"| q:\", q, \"| pvq:\", p or q)\n",
    "\n",
    "# condicional (p -> q):  é FALSA só quando p = true e q = false\n",
    "\n",
    "print(\"Condicional - \", \"p:\", p, \"|q: \", q, \"|p -> q:\", (not p) or q)\n",
    "\n",
    "# bicondicional: (p <-> q): é true quando p e q forem iguais\n",
    "print(\"Bicondicional - \", \"p:\", p, \"|q:\", q, \"|p <-> q\",(p==q))\n",
    "\n"
   ]
  },
  {
   "cell_type": "code",
   "execution_count": null,
   "id": "4ddc11e3-de7e-47ef-b67f-9f66f37ca445",
   "metadata": {},
   "outputs": [],
   "source": []
  }
 ],
 "metadata": {
  "kernelspec": {
   "display_name": "Python 3 (ipykernel)",
   "language": "python",
   "name": "python3"
  },
  "language_info": {
   "codemirror_mode": {
    "name": "ipython",
    "version": 3
   },
   "file_extension": ".py",
   "mimetype": "text/x-python",
   "name": "python",
   "nbconvert_exporter": "python",
   "pygments_lexer": "ipython3",
   "version": "3.12.7"
  }
 },
 "nbformat": 4,
 "nbformat_minor": 5
}
