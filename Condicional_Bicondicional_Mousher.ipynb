{
 "cells": [
  {
   "cell_type": "code",
   "execution_count": 1,
   "id": "edcb03bb-a408-4593-b634-43bf7e7a07dd",
   "metadata": {},
   "outputs": [
    {
     "name": "stdout",
     "output_type": "stream",
     "text": [
      "p: True |q:  True |p -> q: True\n"
     ]
    }
   ],
   "source": [
    "# Condicional/ implicação (->): a lógica só é falsa quando p for true, q false\n",
    "# p:\"A prova é aplicada hoje.\"\n",
    "# q: \"A prova é respondida à caneta azul.\"\n",
    "\n",
    "dia = \"hoje\" # troque para \"ontem\" e teste\n",
    "caneta = \"azul\" # troque para \"preto\" e teste\n",
    "\n",
    "# \"=\" atribui ; \"==\" compara (gera true/false)\n",
    "p = (dia == \"hoje\")\n",
    "q = (caneta == \"azul\")\n",
    "\n",
    "# condicional p -> q é FALSA só quando p = true e q = false\n",
    "print(\"p:\", p, \"|q: \", q, \"|p -> q:\", (not p) or q)\n",
    "\n",
    "\n",
    "      "
   ]
  },
  {
   "cell_type": "code",
   "execution_count": 5,
   "id": "a4a43bfb-eea9-445f-8486-c96e6aff46b7",
   "metadata": {},
   "outputs": [
    {
     "name": "stdout",
     "output_type": "stream",
     "text": [
      "p: True |q: False |p <-> q: False\n"
     ]
    }
   ],
   "source": [
    "# bicondicional/ equivalencia(<->): a lógica só é true quando p e q forem true ou p e q forem false\n",
    "# p: \"A prova é aplicada hoje.\"\n",
    "# q: \"A prova é respondida à caneta azul.\"\n",
    "\n",
    "# \"=\" atribui ; \"==\" compara (gera true/false)\n",
    "p = (dia == \"hoje\")\n",
    "q = (caneta == \"preta\")\n",
    "\n",
    "# bicondicional: p <-> qé true quando p e q forem iguais\n",
    "print(\"p:\", p, \"|q:\", q, \"|p <-> q:\",(p==q))\n",
    "\n",
    "\n",
    "\n"
   ]
  },
  {
   "cell_type": "code",
   "execution_count": 23,
   "id": "ce1b5ea7-31d5-4407-a4ab-5cc20c831c61",
   "metadata": {},
   "outputs": [
    {
     "name": "stdout",
     "output_type": "stream",
     "text": [
      "p: True |q:  True |p -> q: True\n",
      "p: True |q: True |p <-> q: True\n"
     ]
    }
   ],
   "source": [
    "dia = \"hoje\" # troque para \"ontem\" e teste\n",
    "caneta = \"azul\" # troque para \"preto\" e teste\n",
    "\n",
    "# \"=\" atribui ; \"==\" compara (gera true/false)\n",
    "p = (dia == \"hoje\")\n",
    "q = (caneta == \"azul\")\n",
    "\n",
    "# condicional p -> q é FALSA só quando p = true e q = false\n",
    "print(\"p:\", p, \"|q: \", q, \"|p -> q:\", (not p) or q)\n",
    "\n",
    "\n",
    "# bicondicional: p <-> qé true quando p e q forem iguais\n",
    "print(\"p:\", p, \"|q:\", q, \"|p <-> q:\",(p==q))\n",
    "\n"
   ]
  },
  {
   "cell_type": "code",
   "execution_count": null,
   "id": "c0ce67b8-62e3-4ad6-877d-4bc4b16a772c",
   "metadata": {},
   "outputs": [],
   "source": []
  },
  {
   "cell_type": "code",
   "execution_count": null,
   "id": "8f8f5e41-962d-4251-af64-a9f81d5340d3",
   "metadata": {},
   "outputs": [],
   "source": []
  }
 ],
 "metadata": {
  "kernelspec": {
   "display_name": "Python 3 (ipykernel)",
   "language": "python",
   "name": "python3"
  },
  "language_info": {
   "codemirror_mode": {
    "name": "ipython",
    "version": 3
   },
   "file_extension": ".py",
   "mimetype": "text/x-python",
   "name": "python",
   "nbconvert_exporter": "python",
   "pygments_lexer": "ipython3",
   "version": "3.12.7"
  }
 },
 "nbformat": 4,
 "nbformat_minor": 5
}
