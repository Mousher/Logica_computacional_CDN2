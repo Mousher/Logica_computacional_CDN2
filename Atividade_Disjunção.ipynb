{
 "cells": [
  {
   "cell_type": "code",
   "execution_count": 1,
   "id": "a3da1387-86c9-498a-b523-bad95b548e5a",
   "metadata": {},
   "outputs": [
    {
     "name": "stdout",
     "output_type": "stream",
     "text": [
      "p: True | q: True | pvq: True\n"
     ]
    }
   ],
   "source": [
    "# Disjunção (or = v): só é False quando p e q são False\n",
    "\n",
    "# p: \"A prova é aplicada hoje\"\n",
    "# q: \"A prova é respondida a caneta azul\"\n",
    "\n",
    "dia = \"hoje\"\n",
    "caneta = \"azul\"\n",
    "\n",
    "p = (dia == \"hoje\")\n",
    "q = (caneta == \"azul\")\n",
    "\n",
    "print(\"p:\", p, \"| q:\", q, \"| pvq:\", p or q)"
   ]
  },
  {
   "cell_type": "code",
   "execution_count": 2,
   "id": "b8956bd3-e74f-46b5-b299-ab2bd43a8ac9",
   "metadata": {},
   "outputs": [
    {
     "name": "stdout",
     "output_type": "stream",
     "text": [
      "p: True | q: False | pvq: True\n"
     ]
    }
   ],
   "source": [
    "dia = \"hoje\"\n",
    "caneta = \"verde\"\n",
    "\n",
    "p = (dia == \"hoje\")\n",
    "q = (caneta == \"azul\")\n",
    "\n",
    "print(\"p:\", p, \"| q:\", q, \"| pvq:\", p or q)"
   ]
  },
  {
   "cell_type": "code",
   "execution_count": 3,
   "id": "a4efcdec-2d8b-4596-9f6f-7badf1a01f76",
   "metadata": {},
   "outputs": [
    {
     "name": "stdout",
     "output_type": "stream",
     "text": [
      "p: False | q: True | pvq: True\n"
     ]
    }
   ],
   "source": [
    "dia = \"ontem\"\n",
    "caneta = \"azul\"\n",
    "\n",
    "p = (dia == \"hoje\")\n",
    "q = (caneta == \"azul\")\n",
    "\n",
    "print(\"p:\", p, \"| q:\", q, \"| pvq:\", p or q)"
   ]
  },
  {
   "cell_type": "code",
   "execution_count": 4,
   "id": "1d7fc1f7-3047-46f7-9e60-a0c108d33ff1",
   "metadata": {},
   "outputs": [
    {
     "name": "stdout",
     "output_type": "stream",
     "text": [
      "p: False | q: False | pvq: False\n"
     ]
    }
   ],
   "source": [
    "dia = \"amanhã\"\n",
    "caneta = \"preta\"\n",
    "\n",
    "p = (dia == \"hoje\")\n",
    "q = (caneta == \"azul\")\n",
    "\n",
    "print(\"p:\", p, \"| q:\", q, \"| pvq:\", p or q)"
   ]
  }
 ],
 "metadata": {
  "kernelspec": {
   "display_name": "Python 3 (ipykernel)",
   "language": "python",
   "name": "python3"
  },
  "language_info": {
   "codemirror_mode": {
    "name": "ipython",
    "version": 3
   },
   "file_extension": ".py",
   "mimetype": "text/x-python",
   "name": "python",
   "nbconvert_exporter": "python",
   "pygments_lexer": "ipython3",
   "version": "3.12.7"
  }
 },
 "nbformat": 4,
 "nbformat_minor": 5
}
