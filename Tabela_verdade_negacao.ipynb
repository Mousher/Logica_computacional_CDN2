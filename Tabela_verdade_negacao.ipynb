{
 "cells": [
  {
   "cell_type": "code",
   "execution_count": 2,
   "id": "fe787228-72f3-4018-b1cf-0bf1ee608162",
   "metadata": {},
   "outputs": [
    {
     "name": "stdout",
     "output_type": "stream",
     "text": [
      "Caneta usada:  azul\n",
      "p (com caneta azul):  True\n",
      "¬ (não com caneta azul):  False\n"
     ]
    }
   ],
   "source": [
    "# Valor observado ( troque para \"preta\", \"vermelha\", \"verde\", etc...)\n",
    "\n",
    "caneta = \"azul\"\n",
    "\n",
    "# Preposição: \"Foi com caneta azul\"\n",
    "p = (caneta.lower() == \"azul\")\n",
    "\n",
    "# Negação da preposição\n",
    "\n",
    "nao_p = not p\n",
    "\n",
    "print(\"Caneta usada: \", caneta)\n",
    "print(\"p (com caneta azul): \", p)\n",
    "print(\"¬ (não com caneta azul): \",nao_p)\n",
    " \n",
    "\n",
    "\n"
   ]
  },
  {
   "cell_type": "code",
   "execution_count": 7,
   "id": "423cbebd-8d32-4bdc-bf21-0e32f3f2aa82",
   "metadata": {},
   "outputs": [
    {
     "name": "stdin",
     "output_type": "stream",
     "text": [
      "Digite a cor da caneta:  azul\n"
     ]
    },
    {
     "name": "stdout",
     "output_type": "stream",
     "text": [
      "Caneta usada:  azul\n",
      "p (com caneta azul):  True\n",
      "¬ (não com caneta azul):  False\n"
     ]
    }
   ],
   "source": [
    "# Valor observado ( troque para \"preta\", \"vermelha\", \"verde\", etc...)\n",
    "\n",
    "caneta = str(input(\"Digite a cor da caneta: \"))\n",
    "\n",
    "# Preposição: \"Foi com caneta azul\"\n",
    "p = (caneta.lower() == \"azul\")\n",
    "\n",
    "# Negação da preposição\n",
    "nao_p = not p\n",
    "\n",
    "print(\"Caneta usada: \", caneta)\n",
    "print(\"p (com caneta azul): \", p)\n",
    "print(\"¬ (não com caneta azul): \",nao_p)\n",
    " \n"
   ]
  },
  {
   "cell_type": "code",
   "execution_count": null,
   "id": "48fe83c9-91d1-464b-991d-48c979a8576c",
   "metadata": {},
   "outputs": [],
   "source": []
  },
  {
   "cell_type": "code",
   "execution_count": null,
   "id": "6a3b9f87-f4ad-406f-bfaa-dc6bbc7bbabd",
   "metadata": {},
   "outputs": [],
   "source": []
  }
 ],
 "metadata": {
  "kernelspec": {
   "display_name": "Python 3 (ipykernel)",
   "language": "python",
   "name": "python3"
  },
  "language_info": {
   "codemirror_mode": {
    "name": "ipython",
    "version": 3
   },
   "file_extension": ".py",
   "mimetype": "text/x-python",
   "name": "python",
   "nbconvert_exporter": "python",
   "pygments_lexer": "ipython3",
   "version": "3.12.7"
  }
 },
 "nbformat": 4,
 "nbformat_minor": 5
}
