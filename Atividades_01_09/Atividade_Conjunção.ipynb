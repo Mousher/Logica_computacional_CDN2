{
 "cells": [
  {
   "cell_type": "code",
   "execution_count": 5,
   "id": "01c895d8-9802-413d-b213-bcf3d1ebd2af",
   "metadata": {},
   "outputs": [
    {
     "name": "stdout",
     "output_type": "stream",
     "text": [
      "p: True | q: False p∧q: False\n"
     ]
    }
   ],
   "source": [
    "# conjunção (AND = ∧): só é True quando p e q são True\n",
    "\n",
    "# p: \"A prova é aplicada hoje\"\n",
    "# q: \"A prova é respondida a caneta azul\"\n",
    "\n",
    "dia = \"hoje\"\n",
    "caneta = \"azul\"\n",
    "\n",
    "p = (dia == \"hoje\")\n",
    "q = (caneta == \"preta\")\n",
    "\n",
    "print(\"p:\", p, \"| q:\", q, \"p∧q:\", p and q)"
   ]
  },
  {
   "cell_type": "code",
   "execution_count": 6,
   "id": "45b06167-bd86-44f0-9d04-d4b4c0a3fc72",
   "metadata": {},
   "outputs": [
    {
     "name": "stdout",
     "output_type": "stream",
     "text": [
      "p: True | q: True p∧q: True\n"
     ]
    }
   ],
   "source": [
    "dia = \"hoje\"\n",
    "caneta = \"preta\"\n",
    "\n",
    "p = (dia == \"hoje\")\n",
    "q = (caneta == \"preta\")\n",
    "\n",
    "print(\"p:\", p, \"| q:\", q, \"p∧q:\", p and q)"
   ]
  },
  {
   "cell_type": "code",
   "execution_count": 7,
   "id": "67c4c074-313e-453c-a4ac-19d716519d8e",
   "metadata": {},
   "outputs": [
    {
     "name": "stdout",
     "output_type": "stream",
     "text": [
      "p: False | q: False p∧q: False\n"
     ]
    }
   ],
   "source": [
    "dia = \"hoje\"\n",
    "caneta = \"azul\"\n",
    "\n",
    "p = (dia == \"amanhã\")\n",
    "q = (caneta == \"preta\")\n",
    "\n",
    "print(\"p:\", p, \"| q:\", q, \"p∧q:\", p and q)"
   ]
  },
  {
   "cell_type": "code",
   "execution_count": 8,
   "id": "04a12966-d5a1-42a3-9aad-40879fb624f1",
   "metadata": {},
   "outputs": [
    {
     "name": "stdout",
     "output_type": "stream",
     "text": [
      "p: False | q: True p∧q: False\n"
     ]
    }
   ],
   "source": [
    "dia = \"hoje\"\n",
    "caneta = \"preta\"\n",
    "\n",
    "p = (dia == \"ontem\")\n",
    "q = (caneta == \"preta\")\n",
    "\n",
    "print(\"p:\", p, \"| q:\", q, \"p∧q:\", p and q)"
   ]
  }
 ],
 "metadata": {
  "kernelspec": {
   "display_name": "Python 3 (ipykernel)",
   "language": "python",
   "name": "python3"
  },
  "language_info": {
   "codemirror_mode": {
    "name": "ipython",
    "version": 3
   },
   "file_extension": ".py",
   "mimetype": "text/x-python",
   "name": "python",
   "nbconvert_exporter": "python",
   "pygments_lexer": "ipython3",
   "version": "3.13.5"
  }
 },
 "nbformat": 4,
 "nbformat_minor": 5
}
