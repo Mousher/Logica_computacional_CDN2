{
 "cells": [
  {
   "cell_type": "code",
   "execution_count": 3,
   "id": "23da1ce6-8f6a-4b20-9504-36ed629c6a86",
   "metadata": {},
   "outputs": [
    {
     "name": "stdout",
     "output_type": "stream",
     "text": [
      "p: True | q: True | p∧q: True | pvq: True\n",
      "p∧q = {conj}\n",
      "pvq = {disj}\n"
     ]
    }
   ],
   "source": [
    "#Conjunção e Disjunção (And = \"∧\", Or = \"v\")\n",
    "\n",
    "# p: \"A prova é aplicada hoje\"\n",
    "# q: \"A prova é respondida a caneta azul\"\n",
    "\n",
    "dia = \"hoje\"\n",
    "caneta = \"azul\"\n",
    "\n",
    "p = (dia == \"hoje\")\n",
    "q = (caneta == \"azul\")\n",
    "\n",
    "conj = p and q #conjunção (E)\n",
    "disj = p or q #disjunção (OU)\n",
    "\n",
    "print(\"p:\", p,\"| q:\", q, \"| p∧q:\", p and q, \"| pvq:\", p or q)\n",
    "print(\"p∧q = {conj}\") #True só se for hoje E azul\n",
    "print(\"pvq = {disj}\") #True só de for hoje OU azul"
   ]
  },
  {
   "cell_type": "code",
   "execution_count": 4,
   "id": "90e0c0c3-f151-40b3-b82c-4e38e2212a0e",
   "metadata": {},
   "outputs": [
    {
     "name": "stdout",
     "output_type": "stream",
     "text": [
      "p: True | q: False | p∧q: False | pvq: True\n",
      "p∧q = {conj}\n",
      "pvq = {disj}\n"
     ]
    }
   ],
   "source": [
    "dia = \"hoje\"\n",
    "caneta = \"verde\"\n",
    "\n",
    "p = (dia == \"hoje\")\n",
    "q = (caneta == \"azul\")\n",
    "\n",
    "conj = p and q #conjunção (E)\n",
    "disj = p or q #disjunção (OU)\n",
    "\n",
    "print(\"p:\", p,\"| q:\", q, \"| p∧q:\", p and q, \"| pvq:\", p or q)\n",
    "print(\"p∧q = {conj}\") #True só se for hoje E azul\n",
    "print(\"pvq = {disj}\") #True só de for hoje OU azul"
   ]
  },
  {
   "cell_type": "code",
   "execution_count": 5,
   "id": "5a9b031a-d0bc-4912-a3cf-141430a1bcbe",
   "metadata": {},
   "outputs": [
    {
     "name": "stdout",
     "output_type": "stream",
     "text": [
      "p: False | q: True | p∧q: False | pvq: True\n",
      "p∧q = {conj}\n",
      "pvq = {disj}\n"
     ]
    }
   ],
   "source": [
    "dia = \"ontem\"\n",
    "caneta = \"azul\"\n",
    "\n",
    "p = (dia == \"hoje\")\n",
    "q = (caneta == \"azul\")\n",
    "\n",
    "conj = p and q #conjunção (E)\n",
    "disj = p or q #disjunção (OU)\n",
    "\n",
    "print(\"p:\", p,\"| q:\", q, \"| p∧q:\", p and q, \"| pvq:\", p or q)\n",
    "print(\"p∧q = {conj}\") #True só se for hoje E azul\n",
    "print(\"pvq = {disj}\") #True só de for hoje OU azul"
   ]
  },
  {
   "cell_type": "code",
   "execution_count": 6,
   "id": "3e351def-e6ee-4157-bf0a-2023a3456ef5",
   "metadata": {},
   "outputs": [
    {
     "name": "stdout",
     "output_type": "stream",
     "text": [
      "p: False | q: False | p∧q: False | pvq: False\n",
      "p∧q = {conj}\n",
      "pvq = {disj}\n"
     ]
    }
   ],
   "source": [
    "dia = \"amanhã\"\n",
    "caneta = \"preta\"\n",
    "\n",
    "p = (dia == \"hoje\")\n",
    "q = (caneta == \"azul\")\n",
    "\n",
    "conj = p and q #conjunção (E)\n",
    "disj = p or q #disjunção (OU)\n",
    "\n",
    "print(\"p:\", p,\"| q:\", q, \"| p∧q:\", p and q, \"| pvq:\", p or q)\n",
    "print(\"p∧q = {conj}\") #True só se for hoje E azul\n",
    "print(\"pvq = {disj}\") #True só de for hoje OU azul"
   ]
  }
 ],
 "metadata": {
  "kernelspec": {
   "display_name": "Python 3 (ipykernel)",
   "language": "python",
   "name": "python3"
  },
  "language_info": {
   "codemirror_mode": {
    "name": "ipython",
    "version": 3
   },
   "file_extension": ".py",
   "mimetype": "text/x-python",
   "name": "python",
   "nbconvert_exporter": "python",
   "pygments_lexer": "ipython3",
   "version": "3.13.5"
  }
 },
 "nbformat": 4,
 "nbformat_minor": 5
}
